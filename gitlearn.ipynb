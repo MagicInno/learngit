{
 "cells": [
  {
   "cell_type": "code",
   "execution_count": 1,
   "id": "cf3a35cd-98bb-42c4-93ae-0fa6b501da47",
   "metadata": {},
   "outputs": [
    {
     "data": {
      "text/plain": [
       "'/Users/inno/git'"
      ]
     },
     "execution_count": 1,
     "metadata": {},
     "output_type": "execute_result"
    }
   ],
   "source": [
    "pwd"
   ]
  },
  {
   "cell_type": "code",
   "execution_count": 2,
   "id": "bd133260-d09e-426d-b9e3-bbdab046ce94",
   "metadata": {},
   "outputs": [
    {
     "name": "stdout",
     "output_type": "stream",
     "text": [
      "git version 2.47.0\n"
     ]
    }
   ],
   "source": [
    "!git --version"
   ]
  },
  {
   "cell_type": "code",
   "execution_count": 3,
   "id": "fb0b2e28-98ac-4209-90fd-d171296ca590",
   "metadata": {},
   "outputs": [
    {
     "name": "stdout",
     "output_type": "stream",
     "text": [
      "\u001b[33m提示： 使用 'master' 作为初始分支的名称。这个默认分支名称可能会更改。要在新仓库中\u001b[m\n",
      "\u001b[33m提示： 配置使用初始分支名，并消除这条警告，请执行：\u001b[m\n",
      "\u001b[33m提示：\u001b[m\n",
      "\u001b[33m提示： \tgit config --global init.defaultBranch <名称>\u001b[m\n",
      "\u001b[33m提示：\u001b[m\n",
      "\u001b[33m提示： 除了 'master' 之外，通常选定的名字有 'main'、'trunk' 和 'development'。\u001b[m\n",
      "\u001b[33m提示： 可以通过以下命令重命名刚创建的分支：\u001b[m\n",
      "\u001b[33m提示：\u001b[m\n",
      "\u001b[33m提示： \tgit branch -m <name>\u001b[m\n",
      "已初始化空的 Git 仓库于 /Users/inno/git/.git/\n"
     ]
    }
   ],
   "source": [
    "!git init"
   ]
  },
  {
   "cell_type": "code",
   "execution_count": 5,
   "id": "3a4e0418-3dce-48d2-b592-429c00cf031e",
   "metadata": {},
   "outputs": [],
   "source": [
    "!touch readme.txt"
   ]
  },
  {
   "cell_type": "code",
   "execution_count": 7,
   "id": "28bb3f0c-822a-459d-b824-36ca068175a0",
   "metadata": {},
   "outputs": [],
   "source": [
    "with open(\"readme.txt\",'w') as f:\n",
    "    f.write('Git is a version control system.\\n')\n",
    "    f.write('Git is free software.')"
   ]
  },
  {
   "cell_type": "code",
   "execution_count": 8,
   "id": "7f8a0f4b-165c-4051-9369-f8f2c47dac44",
   "metadata": {},
   "outputs": [
    {
     "name": "stdout",
     "output_type": "stream",
     "text": [
      "Git is a version control system.\n",
      "Git is free software."
     ]
    }
   ],
   "source": [
    "!cat readme.txt"
   ]
  },
  {
   "cell_type": "code",
   "execution_count": 9,
   "id": "b99cbebe-c911-44ed-be7b-50041a65b07f",
   "metadata": {},
   "outputs": [],
   "source": [
    "!git add readme.txt"
   ]
  },
  {
   "cell_type": "code",
   "execution_count": 10,
   "id": "af43ed59-53a5-4575-9381-9d3f53cea712",
   "metadata": {},
   "outputs": [
    {
     "name": "stdout",
     "output_type": "stream",
     "text": [
      "[master（根提交） e20a943] wrote a readme file\n",
      " 1 file changed, 2 insertions(+)\n",
      " create mode 100644 readme.txt\n"
     ]
    }
   ],
   "source": [
    "!git commit -m \"wrote a readme file\""
   ]
  },
  {
   "cell_type": "code",
   "execution_count": 11,
   "id": "384f5d4f-4e40-4528-b29b-477f30af49f9",
   "metadata": {},
   "outputs": [],
   "source": [
    "with open(\"readme.txt\",'w') as f:\n",
    "    f.write('Git is a distributed version control system.\\n')\n",
    "    f.write('Git is free software.')"
   ]
  },
  {
   "cell_type": "code",
   "execution_count": 12,
   "id": "877b23c7-0102-4fd0-b91a-1bb20b0ac19e",
   "metadata": {},
   "outputs": [
    {
     "name": "stdout",
     "output_type": "stream",
     "text": [
      "位于分支 master\n",
      "尚未暂存以备提交的变更：\n",
      "  （使用 \"git add <文件>...\" 更新要提交的内容）\n",
      "  （使用 \"git restore <文件>...\" 丢弃工作区的改动）\n",
      "\t\u001b[31m修改：     readme.txt\u001b[m\n",
      "\n",
      "未跟踪的文件:\n",
      "  （使用 \"git add <文件>...\" 以包含要提交的内容）\n",
      "\t\u001b[31m.ipynb_checkpoints/\u001b[m\n",
      "\t\u001b[31mUntitled.ipynb\u001b[m\n",
      "\n",
      "修改尚未加入提交（使用 \"git add\" 和/或 \"git commit -a\"）\n"
     ]
    }
   ],
   "source": [
    "!git status"
   ]
  },
  {
   "cell_type": "code",
   "execution_count": 13,
   "id": "e6092dec-de3c-4457-a3e4-a6ea208eed31",
   "metadata": {},
   "outputs": [
    {
     "name": "stdout",
     "output_type": "stream",
     "text": [
      "\u001b[1mdiff --git a/readme.txt b/readme.txt\u001b[m\n",
      "\u001b[1mindex d8036c1..013b5bc 100644\u001b[m\n",
      "\u001b[1m--- a/readme.txt\u001b[m\n",
      "\u001b[1m+++ b/readme.txt\u001b[m\n",
      "\u001b[36m@@ -1,2 +1,2 @@\u001b[m\n",
      "\u001b[31m-Git is a version control system.\u001b[m\n",
      "\u001b[32m+\u001b[m\u001b[32mGit is a distributed version control system.\u001b[m\n",
      " Git is free software.\u001b[m\n",
      "\\ No newline at end of file\u001b[m\n"
     ]
    }
   ],
   "source": [
    "!git diff readme.txt"
   ]
  },
  {
   "cell_type": "code",
   "execution_count": 14,
   "id": "d345b4c7-8692-49ad-a871-59f0c39a066c",
   "metadata": {},
   "outputs": [],
   "source": [
    "!git add readme.txt"
   ]
  },
  {
   "cell_type": "code",
   "execution_count": 15,
   "id": "2ca56591-18e8-4c83-b390-2782ab660b81",
   "metadata": {},
   "outputs": [
    {
     "name": "stdout",
     "output_type": "stream",
     "text": [
      "位于分支 master\n",
      "要提交的变更：\n",
      "  （使用 \"git restore --staged <文件>...\" 以取消暂存）\n",
      "\t\u001b[32m修改：     readme.txt\u001b[m\n",
      "\n",
      "未跟踪的文件:\n",
      "  （使用 \"git add <文件>...\" 以包含要提交的内容）\n",
      "\t\u001b[31m.ipynb_checkpoints/\u001b[m\n",
      "\t\u001b[31mUntitled.ipynb\u001b[m\n",
      "\n"
     ]
    }
   ],
   "source": [
    "!git status"
   ]
  },
  {
   "cell_type": "code",
   "execution_count": 16,
   "id": "7080f27e-913c-41eb-a9db-3cbe16629d55",
   "metadata": {},
   "outputs": [
    {
     "name": "stdout",
     "output_type": "stream",
     "text": [
      "[master 96cd9e6] add distributed\n",
      " 1 file changed, 1 insertion(+), 1 deletion(-)\n"
     ]
    }
   ],
   "source": [
    "!git commit -m \"add distributed\""
   ]
  },
  {
   "cell_type": "code",
   "execution_count": 17,
   "id": "42fd18e8-9244-4525-b57a-d8b3d5b1a6f9",
   "metadata": {},
   "outputs": [
    {
     "name": "stdout",
     "output_type": "stream",
     "text": [
      "位于分支 master\n",
      "未跟踪的文件:\n",
      "  （使用 \"git add <文件>...\" 以包含要提交的内容）\n",
      "\t\u001b[31m.ipynb_checkpoints/\u001b[m\n",
      "\t\u001b[31mUntitled.ipynb\u001b[m\n",
      "\n",
      "提交为空，但是存在尚未跟踪的文件（使用 \"git add\" 建立跟踪）\n"
     ]
    }
   ],
   "source": [
    "!git status"
   ]
  },
  {
   "cell_type": "code",
   "execution_count": 18,
   "id": "f274aca5-8a9c-4d75-bb5f-23b90e139889",
   "metadata": {},
   "outputs": [],
   "source": [
    "with open('readme.txt', 'w') as file:\n",
    "    file.write(\"Git is a distributed version control system.\\n\")\n",
    "    file.write(\"Git is free software distributed under the GPL.\")"
   ]
  },
  {
   "cell_type": "code",
   "execution_count": 19,
   "id": "48be42d4-4c64-4c3e-952c-d8372f91725f",
   "metadata": {},
   "outputs": [],
   "source": [
    "!git add readme.txt"
   ]
  },
  {
   "cell_type": "code",
   "execution_count": 20,
   "id": "041d34a5-ee76-4077-bb70-912656d05b09",
   "metadata": {},
   "outputs": [
    {
     "name": "stdout",
     "output_type": "stream",
     "text": [
      "位于分支 master\n",
      "要提交的变更：\n",
      "  （使用 \"git restore --staged <文件>...\" 以取消暂存）\n",
      "\t\u001b[32m修改：     readme.txt\u001b[m\n",
      "\n",
      "未跟踪的文件:\n",
      "  （使用 \"git add <文件>...\" 以包含要提交的内容）\n",
      "\t\u001b[31m.ipynb_checkpoints/\u001b[m\n",
      "\t\u001b[31mUntitled.ipynb\u001b[m\n",
      "\n"
     ]
    }
   ],
   "source": [
    "!git status"
   ]
  },
  {
   "cell_type": "code",
   "execution_count": 22,
   "id": "b379e71d-cc02-43aa-89c9-bac882ec3b7e",
   "metadata": {},
   "outputs": [
    {
     "name": "stdout",
     "output_type": "stream",
     "text": [
      "[master e29a0b5] append GPL\n",
      " 1 file changed, 1 insertion(+), 1 deletion(-)\n"
     ]
    }
   ],
   "source": [
    "!git commit -m \"append GPL\""
   ]
  },
  {
   "cell_type": "code",
   "execution_count": 23,
   "id": "248904d0-0350-4465-911b-4fa8721ac5be",
   "metadata": {},
   "outputs": [
    {
     "name": "stdout",
     "output_type": "stream",
     "text": [
      "\u001b[33mcommit e29a0b56ede95094d51b2d6affc096b9591162df\u001b[m\u001b[33m (\u001b[m\u001b[1;36mHEAD\u001b[m\u001b[33m -> \u001b[m\u001b[1;32mmaster\u001b[m\u001b[33m)\u001b[m\n",
      "Author: yuumi <jqhinno@gmail.com>\n",
      "Date:   Fri Oct 25 21:56:58 2024 +0900\n",
      "\n",
      "    append GPL\n",
      "\n",
      "\u001b[33mcommit 96cd9e6cbeb8a89473d97301a712498a97bb5a8a\u001b[m\n",
      "Author: yuumi <jqhinno@gmail.com>\n",
      "Date:   Fri Oct 25 21:53:36 2024 +0900\n",
      "\n",
      "    add distributed\n",
      "\n",
      "\u001b[33mcommit e20a94301427294ccb76be4d9d044503c1ff6d26\u001b[m\n",
      "Author: yuumi <jqhinno@gmail.com>\n",
      "Date:   Fri Oct 25 21:49:40 2024 +0900\n",
      "\n",
      "    wrote a readme file\n"
     ]
    }
   ],
   "source": [
    "!git log"
   ]
  },
  {
   "cell_type": "code",
   "execution_count": 24,
   "id": "10531f90-3b3b-41dd-b773-1fb554940e09",
   "metadata": {},
   "outputs": [
    {
     "name": "stdout",
     "output_type": "stream",
     "text": [
      "\u001b[33me29a0b56ede95094d51b2d6affc096b9591162df\u001b[m\u001b[33m (\u001b[m\u001b[1;36mHEAD\u001b[m\u001b[33m -> \u001b[m\u001b[1;32mmaster\u001b[m\u001b[33m)\u001b[m append GPL\n",
      "\u001b[33m96cd9e6cbeb8a89473d97301a712498a97bb5a8a\u001b[m add distributed\n",
      "\u001b[33me20a94301427294ccb76be4d9d044503c1ff6d26\u001b[m wrote a readme file\n"
     ]
    }
   ],
   "source": [
    "!git log --pretty=oneline"
   ]
  },
  {
   "cell_type": "code",
   "execution_count": 26,
   "id": "8f0b7fe6-0f66-4a16-b33a-d81a644d4d62",
   "metadata": {},
   "outputs": [
    {
     "name": "stdout",
     "output_type": "stream",
     "text": [
      "HEAD 现在位于 e20a943 wrote a readme file\n"
     ]
    }
   ],
   "source": [
    "# 回到上一个版本 \n",
    "# hard回到上个已提交的版本，--soft回到上个未提交的版本，--mixed 上一个已添加未提交的版本\n",
    "!git reset --hard Head^"
   ]
  },
  {
   "cell_type": "code",
   "execution_count": 27,
   "id": "3b6ece65-a3d9-4ed2-8ebd-a4c4b06a072f",
   "metadata": {},
   "outputs": [
    {
     "name": "stdout",
     "output_type": "stream",
     "text": [
      "Git is a version control system.\n",
      "Git is free software."
     ]
    }
   ],
   "source": [
    "!cat readme.txt"
   ]
  },
  {
   "cell_type": "code",
   "execution_count": 28,
   "id": "8cc2b1a6-9590-4440-a5f1-1e92f699e897",
   "metadata": {},
   "outputs": [
    {
     "name": "stdout",
     "output_type": "stream",
     "text": [
      "\u001b[33mcommit e20a94301427294ccb76be4d9d044503c1ff6d26\u001b[m\u001b[33m (\u001b[m\u001b[1;36mHEAD\u001b[m\u001b[33m -> \u001b[m\u001b[1;32mmaster\u001b[m\u001b[33m)\u001b[m\n",
      "Author: yuumi <jqhinno@gmail.com>\n",
      "Date:   Fri Oct 25 21:49:40 2024 +0900\n",
      "\n",
      "    wrote a readme file\n"
     ]
    }
   ],
   "source": [
    "!git log"
   ]
  },
  {
   "cell_type": "code",
   "execution_count": 30,
   "id": "8cf4157a-8627-4f8f-beaf-090b90fb4232",
   "metadata": {},
   "outputs": [
    {
     "name": "stdout",
     "output_type": "stream",
     "text": [
      "HEAD 现在位于 e29a0b5 append GPL\n"
     ]
    }
   ],
   "source": [
    "!git reset --hard e29a0b"
   ]
  },
  {
   "cell_type": "code",
   "execution_count": 31,
   "id": "483ea3c1-753d-4957-95cd-6dbed7777c4b",
   "metadata": {},
   "outputs": [
    {
     "name": "stdout",
     "output_type": "stream",
     "text": [
      "Git is a distributed version control system.\n",
      "Git is free software distributed under the GPL."
     ]
    }
   ],
   "source": [
    "!cat readme.txt"
   ]
  },
  {
   "cell_type": "code",
   "execution_count": 32,
   "id": "61b4699f-a631-4c32-a93e-5ea963aa3dde",
   "metadata": {},
   "outputs": [
    {
     "name": "stdout",
     "output_type": "stream",
     "text": [
      "HEAD 现在位于 96cd9e6 add distributed\n"
     ]
    }
   ],
   "source": [
    "!git reset --hard Head^"
   ]
  },
  {
   "cell_type": "code",
   "execution_count": 33,
   "id": "f4a4c08f-bfdb-4283-a133-eaf934acd9b1",
   "metadata": {},
   "outputs": [
    {
     "name": "stdout",
     "output_type": "stream",
     "text": [
      "Git is a distributed version control system.\n",
      "Git is free software."
     ]
    }
   ],
   "source": [
    "!cat readme.txt"
   ]
  },
  {
   "cell_type": "code",
   "execution_count": 36,
   "id": "aa918c99-3170-4b7c-9190-9eb2c6d68cda",
   "metadata": {},
   "outputs": [
    {
     "name": "stdout",
     "output_type": "stream",
     "text": [
      "HEAD 现在位于 e29a0b5 append GPL\n"
     ]
    }
   ],
   "source": [
    "!git reset --hard e29a0b"
   ]
  },
  {
   "cell_type": "code",
   "execution_count": 37,
   "id": "1febf461-919d-4fe3-a8a5-6c9486af4091",
   "metadata": {},
   "outputs": [
    {
     "name": "stdout",
     "output_type": "stream",
     "text": [
      "\u001b[33me29a0b5\u001b[m\u001b[33m (\u001b[m\u001b[1;36mHEAD\u001b[m\u001b[33m -> \u001b[m\u001b[1;32mmaster\u001b[m\u001b[33m)\u001b[m HEAD@{0}: reset: moving to e29a0b\n",
      "\u001b[33m96cd9e6\u001b[m HEAD@{1}: reset: moving to Head^\n",
      "\u001b[33me29a0b5\u001b[m\u001b[33m (\u001b[m\u001b[1;36mHEAD\u001b[m\u001b[33m -> \u001b[m\u001b[1;32mmaster\u001b[m\u001b[33m)\u001b[m HEAD@{2}: reset: moving to e29a0b\n",
      "\u001b[33me20a943\u001b[m HEAD@{3}: reset: moving to Head^\n",
      "\u001b[33m96cd9e6\u001b[m HEAD@{4}: reset: moving to Head^\n",
      "\u001b[33me29a0b5\u001b[m\u001b[33m (\u001b[m\u001b[1;36mHEAD\u001b[m\u001b[33m -> \u001b[m\u001b[1;32mmaster\u001b[m\u001b[33m)\u001b[m HEAD@{5}: commit: append GPL\n",
      "\u001b[33m96cd9e6\u001b[m HEAD@{6}: commit: add distributed\n",
      "\u001b[33me20a943\u001b[m HEAD@{7}: commit (initial): wrote a readme file\n"
     ]
    }
   ],
   "source": [
    "!git reflog"
   ]
  },
  {
   "attachments": {
    "463bfb23-e02e-478b-81fe-dcdccf85c37c.png": {
     "image/png": "[encoded data removed]"
    },
    "9275edd3-2fd9-47d2-9b54-12f2c9d6ac20.png": {
     "image/png": "[encoded data removed]"
    }
   },
   "cell_type": "markdown",
   "id": "6acc59ae-0bc3-4be1-ad73-4df719d4551e",
   "metadata": {},
   "source": [
    "## 工作区与暂存区\n",
    "工作区，就是电脑能看到的目录，![image.png](attachment:9275edd3-2fd9-47d2-9b54-12f2c9d6ac20.png)![image.png](attachment:463bfb23-e02e-478b-81fe-dcdccf85c37c.png)\n",
    "版本库：\n",
    "工作区有个隐藏的目录.git, 这个不算工作区，是Git的版本库。\n",
    "版本库里存放很多东西，其中最重要的称为stage的暂存区，还有Git为我们自动创建的第一个分支master。以及master的一个指针Head\n",
    "我们把文件放入git版本库时候，分为两个步骤：\n",
    "1. git add 就是把文件修改添加到暂存区。\n",
    "2. git commit，把暂存区的内容提交到当前分支。\n",
    "\n",
    "创建git版本库时，Git自动为我们创建了唯一一个master分支，所以git commit就是往master分支提交。\n"
   ]
  },
  {
   "cell_type": "code",
   "execution_count": 40,
   "id": "1a6c9daf-1737-47cb-9225-60cc31f622d4",
   "metadata": {},
   "outputs": [],
   "source": [
    "with open(\"readme.txt\",'w') as f:\n",
    "    f.write(\"Git is a distributed version control system.\\nGit is free software distributed under the GPL.\\nGit has a mutable index called stage.\\n\")"
   ]
  },
  {
   "cell_type": "code",
   "execution_count": 41,
   "id": "f47c61b3-2991-43b5-9057-762e1aae6962",
   "metadata": {},
   "outputs": [
    {
     "name": "stdout",
     "output_type": "stream",
     "text": [
      "Git is a distributed version control system.\n",
      "Git is free software distributed under the GPL.\n",
      "Git has a mutable index called stage.\n"
     ]
    }
   ],
   "source": [
    "!cat readme.txt"
   ]
  },
  {
   "cell_type": "code",
   "execution_count": 42,
   "id": "7f10443d-b285-49d2-821d-d2144678e7a3",
   "metadata": {},
   "outputs": [],
   "source": [
    "with open(\"LICENSE\",'w') as f:\n",
    "    f.write(\"yuumi\")"
   ]
  },
  {
   "cell_type": "code",
   "execution_count": 44,
   "id": "50c5dc76-0b65-4bf3-a41f-9ab0a8e6341e",
   "metadata": {},
   "outputs": [
    {
     "name": "stdout",
     "output_type": "stream",
     "text": [
      "位于分支 master\n",
      "尚未暂存以备提交的变更：\n",
      "  （使用 \"git add <文件>...\" 更新要提交的内容）\n",
      "  （使用 \"git restore <文件>...\" 丢弃工作区的改动）\n",
      "\t\u001b[31m修改：     readme.txt\u001b[m\n",
      "\n",
      "未跟踪的文件:\n",
      "  （使用 \"git add <文件>...\" 以包含要提交的内容）\n",
      "\t\u001b[31m.ipynb_checkpoints/\u001b[m\n",
      "\t\u001b[31mLICENSE\u001b[m\n",
      "\t\u001b[31mUntitled.ipynb\u001b[m\n",
      "\n",
      "修改尚未加入提交（使用 \"git add\" 和/或 \"git commit -a\"）\n"
     ]
    }
   ],
   "source": [
    "!git status"
   ]
  },
  {
   "cell_type": "code",
   "execution_count": 45,
   "id": "8870ecca-e03f-4852-990d-2742ad6a2375",
   "metadata": {},
   "outputs": [],
   "source": [
    "!git add readme.txt\n",
    "!git add LICENSE"
   ]
  },
  {
   "cell_type": "code",
   "execution_count": 47,
   "id": "e167c013-2d31-4188-83e7-e7376b8a3954",
   "metadata": {},
   "outputs": [
    {
     "name": "stdout",
     "output_type": "stream",
     "text": [
      "位于分支 master\n",
      "要提交的变更：\n",
      "  （使用 \"git restore --staged <文件>...\" 以取消暂存）\n",
      "\t\u001b[32m新文件：   LICENSE\u001b[m\n",
      "\t\u001b[32m修改：     readme.txt\u001b[m\n",
      "\n",
      "未跟踪的文件:\n",
      "  （使用 \"git add <文件>...\" 以包含要提交的内容）\n",
      "\t\u001b[31m.ipynb_checkpoints/\u001b[m\n",
      "\t\u001b[31mUntitled.ipynb\u001b[m\n",
      "\n"
     ]
    }
   ],
   "source": [
    "!git status"
   ]
  },
  {
   "cell_type": "code",
   "execution_count": 48,
   "id": "25b6ccd5-4320-44d0-bd88-be69c59c120c",
   "metadata": {},
   "outputs": [
    {
     "name": "stdout",
     "output_type": "stream",
     "text": [
      "[master 319b375] understand how stage works\n",
      " 2 files changed, 3 insertions(+), 1 deletion(-)\n",
      " create mode 100644 LICENSE\n"
     ]
    }
   ],
   "source": [
    "!git commit -m \"understand how stage works\""
   ]
  },
  {
   "cell_type": "code",
   "execution_count": 49,
   "id": "a9bbbd6c-1b99-45ab-9d14-c4d7facab625",
   "metadata": {},
   "outputs": [
    {
     "name": "stdout",
     "output_type": "stream",
     "text": [
      "位于分支 master\n",
      "未跟踪的文件:\n",
      "  （使用 \"git add <文件>...\" 以包含要提交的内容）\n",
      "\t\u001b[31m.ipynb_checkpoints/\u001b[m\n",
      "\t\u001b[31mUntitled.ipynb\u001b[m\n",
      "\n",
      "提交为空，但是存在尚未跟踪的文件（使用 \"git add\" 建立跟踪）\n"
     ]
    }
   ],
   "source": [
    "!git status"
   ]
  },
  {
   "cell_type": "markdown",
   "id": "4cdbb332-e59a-437f-922e-15817fea5de9",
   "metadata": {},
   "source": [
    "# 管理修改\n",
    "增加删除更改自负，都是修改，git管理的是修改，而不是文件，比如对readme.txt做修改，增加一行内容"
   ]
  },
  {
   "cell_type": "code",
   "execution_count": 52,
   "id": "843ecb0e-eaf4-46e2-ba74-215c349e797f",
   "metadata": {},
   "outputs": [],
   "source": [
    "with open(\"readme.txt\",'w') as f:\n",
    "    f.write(\"Git is a distributed version control system.\\nGit is free software distributed under the GPL.\\nGit has a mutable index called stage.\\nGit tracks changes.\")"
   ]
  },
  {
   "cell_type": "code",
   "execution_count": 53,
   "id": "d0367717-35d8-4e63-9df6-263faa4b011f",
   "metadata": {},
   "outputs": [
    {
     "name": "stdout",
     "output_type": "stream",
     "text": [
      "Git is a distributed version control system.\n",
      "Git is free software distributed under the GPL.\n",
      "Git has a mutable index called stage.\n",
      "Git tracks changes."
     ]
    }
   ],
   "source": [
    "!cat readme.txt"
   ]
  },
  {
   "cell_type": "code",
   "execution_count": 54,
   "id": "cf00c681-9f9f-49f2-80e0-e852ceb0840a",
   "metadata": {},
   "outputs": [],
   "source": [
    "!git add readme.txt"
   ]
  },
  {
   "cell_type": "code",
   "execution_count": 55,
   "id": "30663db7-d70a-46dc-bee7-a8ee51077373",
   "metadata": {},
   "outputs": [
    {
     "name": "stdout",
     "output_type": "stream",
     "text": [
      "位于分支 master\n",
      "要提交的变更：\n",
      "  （使用 \"git restore --staged <文件>...\" 以取消暂存）\n",
      "\t\u001b[32m修改：     readme.txt\u001b[m\n",
      "\n",
      "未跟踪的文件:\n",
      "  （使用 \"git add <文件>...\" 以包含要提交的内容）\n",
      "\t\u001b[31m.ipynb_checkpoints/\u001b[m\n",
      "\t\u001b[31mgitlearn.ipynb\u001b[m\n",
      "\n"
     ]
    }
   ],
   "source": [
    "!git status"
   ]
  },
  {
   "cell_type": "code",
   "execution_count": 57,
   "id": "7e444c78-81e2-4a9b-8dc7-95816eed2ca1",
   "metadata": {},
   "outputs": [],
   "source": [
    "with open('readme.txt','w') as f:\n",
    "    f.write(\"Git is a distributed version control system.\\nGit is free software distributed under the GPL.\\nGit has a mutable index called stage.\\nGit tracks changes of files.\")"
   ]
  },
  {
   "cell_type": "code",
   "execution_count": 58,
   "id": "658b5b42-d723-49a6-adf7-2be5cce723e5",
   "metadata": {},
   "outputs": [
    {
     "name": "stdout",
     "output_type": "stream",
     "text": [
      "[master 2a55575] git tracks changes\n",
      " 1 file changed, 1 insertion(+)\n"
     ]
    }
   ],
   "source": [
    "!git commit -m \"git tracks changes\""
   ]
  },
  {
   "cell_type": "code",
   "execution_count": 59,
   "id": "1ce49c7c-40aa-4eb5-aa72-8b5176a1512b",
   "metadata": {},
   "outputs": [
    {
     "name": "stdout",
     "output_type": "stream",
     "text": [
      "位于分支 master\n",
      "尚未暂存以备提交的变更：\n",
      "  （使用 \"git add <文件>...\" 更新要提交的内容）\n",
      "  （使用 \"git restore <文件>...\" 丢弃工作区的改动）\n",
      "\t\u001b[31m修改：     readme.txt\u001b[m\n",
      "\n",
      "未跟踪的文件:\n",
      "  （使用 \"git add <文件>...\" 以包含要提交的内容）\n",
      "\t\u001b[31m.ipynb_checkpoints/\u001b[m\n",
      "\t\u001b[31mgitlearn.ipynb\u001b[m\n",
      "\n",
      "修改尚未加入提交（使用 \"git add\" 和/或 \"git commit -a\"）\n"
     ]
    }
   ],
   "source": [
    "!git status"
   ]
  },
  {
   "cell_type": "code",
   "execution_count": 61,
   "id": "c3363d57-d2c7-494f-91df-fa71724c2446",
   "metadata": {},
   "outputs": [
    {
     "name": "stdout",
     "output_type": "stream",
     "text": [
      "\u001b[1mdiff --git a/readme.txt b/readme.txt\u001b[m\n",
      "\u001b[1mindex db28b2c..9a8b341 100644\u001b[m\n",
      "\u001b[1m--- a/readme.txt\u001b[m\n",
      "\u001b[1m+++ b/readme.txt\u001b[m\n",
      "\u001b[36m@@ -1,4 +1,4 @@\u001b[m\n",
      " Git is a distributed version control system.\u001b[m\n",
      " Git is free software distributed under the GPL.\u001b[m\n",
      " Git has a mutable index called stage.\u001b[m\n",
      "\u001b[31m-Git tracks changes.\u001b[m\n",
      "\\ No newline at end of file\u001b[m\n",
      "\u001b[32m+\u001b[m\u001b[32mGit tracks changes of files.\u001b[m\n",
      "\\ No newline at end of file\u001b[m\n"
     ]
    }
   ],
   "source": [
    "!git diff Head -- readme.txt"
   ]
  },
  {
   "cell_type": "code",
   "execution_count": 62,
   "id": "26174826-49c5-4c9a-ae67-ec4cd91c9c07",
   "metadata": {},
   "outputs": [],
   "source": [
    "!git add readme.txt"
   ]
  },
  {
   "cell_type": "code",
   "execution_count": 63,
   "id": "56eaa5a6-869c-4f03-af24-66f84c0a23e2",
   "metadata": {},
   "outputs": [
    {
     "name": "stdout",
     "output_type": "stream",
     "text": [
      "[master 2f9e043] track\n",
      " 1 file changed, 1 insertion(+), 1 deletion(-)\n"
     ]
    }
   ],
   "source": [
    "!git commit -m \"track\""
   ]
  },
  {
   "cell_type": "code",
   "execution_count": 66,
   "id": "f3bf0619-e095-48b3-82c4-56e9b4c02214",
   "metadata": {},
   "outputs": [
    {
     "name": "stdout",
     "output_type": "stream",
     "text": [
      "位于分支 master\n",
      "尚未暂存以备提交的变更：\n",
      "  （使用 \"git add <文件>...\" 更新要提交的内容）\n",
      "  （使用 \"git restore <文件>...\" 丢弃工作区的改动）\n",
      "\t\u001b[31m修改：     readme.txt\u001b[m\n",
      "\n",
      "未跟踪的文件:\n",
      "  （使用 \"git add <文件>...\" 以包含要提交的内容）\n",
      "\t\u001b[31m.ipynb_checkpoints/\u001b[m\n",
      "\t\u001b[31mgitlearn.ipynb\u001b[m\n",
      "\n",
      "修改尚未加入提交（使用 \"git add\" 和/或 \"git commit -a\"）\n"
     ]
    }
   ],
   "source": [
    "!git status"
   ]
  },
  {
   "cell_type": "code",
   "execution_count": 67,
   "id": "80c5bdf1-5242-4275-89fe-ceba8e67c56c",
   "metadata": {},
   "outputs": [
    {
     "name": "stdout",
     "output_type": "stream",
     "text": [
      "Git is a distributed version control system.\n",
      "Git is free software distributed under the GPL.\n",
      "Git has a mutable index called stage.\n",
      "Git tracks changes of files.\n",
      "My stupid boss still prefers SVN.\n"
     ]
    }
   ],
   "source": [
    "!cat readme.txt"
   ]
  },
  {
   "cell_type": "code",
   "execution_count": 69,
   "id": "1e02fd5c-de26-4fe9-93ed-d0378b884c91",
   "metadata": {},
   "outputs": [],
   "source": [
    "!git checkout -- readme.txt"
   ]
  },
  {
   "cell_type": "code",
   "execution_count": 70,
   "id": "3aab74cf-52ea-4d1e-8be8-b7434df23ffa",
   "metadata": {},
   "outputs": [
    {
     "name": "stdout",
     "output_type": "stream",
     "text": [
      "Git is a distributed version control system.\n",
      "Git is free software distributed under the GPL.\n",
      "Git has a mutable index called stage.\n",
      "Git tracks changes of files."
     ]
    }
   ],
   "source": [
    "!cat readme.txt"
   ]
  },
  {
   "cell_type": "code",
   "execution_count": 71,
   "id": "2dfa61ef-2741-44dd-b578-17a309e57016",
   "metadata": {},
   "outputs": [
    {
     "name": "stdout",
     "output_type": "stream",
     "text": [
      "Git is a distributed version control system.\n",
      "Git is free software distributed under the GPL.\n",
      "Git has a mutable index called stage.\n",
      "Git tracks changes of files.\n",
      "My stupid boss still prefers SVN."
     ]
    }
   ],
   "source": [
    "!cat readme.txt"
   ]
  },
  {
   "cell_type": "code",
   "execution_count": 72,
   "id": "009ab5db-e882-4da5-8921-6aedb5f61d13",
   "metadata": {},
   "outputs": [],
   "source": [
    "!git add readme.txt"
   ]
  },
  {
   "cell_type": "code",
   "execution_count": 73,
   "id": "5203b6cf-4427-4703-b584-0b4c0e177e2b",
   "metadata": {},
   "outputs": [
    {
     "name": "stdout",
     "output_type": "stream",
     "text": [
      "位于分支 master\n",
      "要提交的变更：\n",
      "  （使用 \"git restore --staged <文件>...\" 以取消暂存）\n",
      "\t\u001b[32m修改：     readme.txt\u001b[m\n",
      "\n",
      "未跟踪的文件:\n",
      "  （使用 \"git add <文件>...\" 以包含要提交的内容）\n",
      "\t\u001b[31m.ipynb_checkpoints/\u001b[m\n",
      "\t\u001b[31mgitlearn.ipynb\u001b[m\n",
      "\n"
     ]
    }
   ],
   "source": [
    "!git status"
   ]
  },
  {
   "cell_type": "code",
   "execution_count": 74,
   "id": "22319fba-1b4c-4b0a-a093-4d95feadd025",
   "metadata": {},
   "outputs": [
    {
     "name": "stdout",
     "output_type": "stream",
     "text": [
      "重置后取消暂存的变更：\n",
      "M\treadme.txt\n"
     ]
    }
   ],
   "source": [
    "!git reset Head readme.txt"
   ]
  },
  {
   "cell_type": "code",
   "execution_count": 75,
   "id": "db47c9d2-dda8-4233-866b-c070e064f7c9",
   "metadata": {},
   "outputs": [
    {
     "name": "stdout",
     "output_type": "stream",
     "text": [
      "位于分支 master\n",
      "尚未暂存以备提交的变更：\n",
      "  （使用 \"git add <文件>...\" 更新要提交的内容）\n",
      "  （使用 \"git restore <文件>...\" 丢弃工作区的改动）\n",
      "\t\u001b[31m修改：     readme.txt\u001b[m\n",
      "\n",
      "未跟踪的文件:\n",
      "  （使用 \"git add <文件>...\" 以包含要提交的内容）\n",
      "\t\u001b[31m.ipynb_checkpoints/\u001b[m\n",
      "\t\u001b[31mgitlearn.ipynb\u001b[m\n",
      "\n",
      "修改尚未加入提交（使用 \"git add\" 和/或 \"git commit -a\"）\n"
     ]
    }
   ],
   "source": [
    "!git status"
   ]
  },
  {
   "cell_type": "code",
   "execution_count": 76,
   "id": "d5a7f826-aa24-4ac1-bd6a-fa01d8aeb27c",
   "metadata": {},
   "outputs": [],
   "source": [
    "!git checkout -- readme.txt"
   ]
  },
  {
   "cell_type": "code",
   "execution_count": 77,
   "id": "5013a2e2-a735-4874-bb9f-290472b04193",
   "metadata": {},
   "outputs": [
    {
     "name": "stdout",
     "output_type": "stream",
     "text": [
      "位于分支 master\n",
      "未跟踪的文件:\n",
      "  （使用 \"git add <文件>...\" 以包含要提交的内容）\n",
      "\t\u001b[31m.ipynb_checkpoints/\u001b[m\n",
      "\t\u001b[31mgitlearn.ipynb\u001b[m\n",
      "\n",
      "提交为空，但是存在尚未跟踪的文件（使用 \"git add\" 建立跟踪）\n"
     ]
    }
   ],
   "source": [
    "!git status"
   ]
  },
  {
   "cell_type": "markdown",
   "id": "a1d3c650-5461-4eca-8c36-4f5a6fb9c2b8",
   "metadata": {},
   "source": [
    "场景1：当你改乱了工作区某个文件的内容，想直接丢弃工作区的修改时，用命令git checkout -- file。\n",
    "\n",
    "场景2：当你不但改乱了工作区某个文件的内容，还添加到了暂存区时，想丢弃修改，分两步，第一步用命令git reset HEAD <file>，就回到了场景1，第二步按场景1操作。"
   ]
  },
  {
   "cell_type": "code",
   "execution_count": 78,
   "id": "72811904-d367-47e9-8108-6d54402b0a99",
   "metadata": {},
   "outputs": [],
   "source": [
    "!touch test.txt"
   ]
  },
  {
   "cell_type": "code",
   "execution_count": 79,
   "id": "264fe1da-861e-4d06-9261-ab2821b10e06",
   "metadata": {},
   "outputs": [
    {
     "name": "stdout",
     "output_type": "stream",
     "text": [
      "LICENSE         gitlearn.ipynb  readme.txt      test.txt\n"
     ]
    }
   ],
   "source": [
    "ls"
   ]
  },
  {
   "cell_type": "code",
   "execution_count": 80,
   "id": "9ec07fec-e714-44e8-b6c5-2a89267a3f75",
   "metadata": {},
   "outputs": [],
   "source": [
    "!git add test.txt"
   ]
  },
  {
   "cell_type": "code",
   "execution_count": 81,
   "id": "ae77ec1c-18cc-446d-94c4-7b0eac0e64a3",
   "metadata": {},
   "outputs": [
    {
     "name": "stdout",
     "output_type": "stream",
     "text": [
      "[master f1c5427] add test.txt\n",
      " 1 file changed, 0 insertions(+), 0 deletions(-)\n",
      " create mode 100644 test.txt\n"
     ]
    }
   ],
   "source": [
    "!git commit -m \"add test.txt\""
   ]
  },
  {
   "cell_type": "code",
   "execution_count": 82,
   "id": "83d3bc39-01f6-4268-a002-8e2dc1e9429b",
   "metadata": {},
   "outputs": [],
   "source": [
    "!rm test.txt"
   ]
  },
  {
   "cell_type": "code",
   "execution_count": 84,
   "id": "6faa7203-f11d-4a09-af69-69f22b7caa5b",
   "metadata": {},
   "outputs": [
    {
     "name": "stdout",
     "output_type": "stream",
     "text": [
      "位于分支 master\n",
      "尚未暂存以备提交的变更：\n",
      "  （使用 \"git add/rm <文件>...\" 更新要提交的内容）\n",
      "  （使用 \"git restore <文件>...\" 丢弃工作区的改动）\n",
      "\t\u001b[31m删除：     test.txt\u001b[m\n",
      "\n",
      "未跟踪的文件:\n",
      "  （使用 \"git add <文件>...\" 以包含要提交的内容）\n",
      "\t\u001b[31m.ipynb_checkpoints/\u001b[m\n",
      "\t\u001b[31mgitlearn.ipynb\u001b[m\n",
      "\n",
      "修改尚未加入提交（使用 \"git add\" 和/或 \"git commit -a\"）\n"
     ]
    }
   ],
   "source": [
    "!git status"
   ]
  },
  {
   "cell_type": "code",
   "execution_count": 85,
   "id": "7570faea-3421-4ffc-a70c-975d9be05e2d",
   "metadata": {},
   "outputs": [
    {
     "name": "stdout",
     "output_type": "stream",
     "text": [
      "rm 'test.txt'\n"
     ]
    }
   ],
   "source": [
    "!git rm test.txt"
   ]
  },
  {
   "cell_type": "code",
   "execution_count": 87,
   "id": "c0e782b1-0e03-4580-8764-3d1a829215c0",
   "metadata": {},
   "outputs": [
    {
     "name": "stdout",
     "output_type": "stream",
     "text": [
      "[master 854dd3b] remove test.txt\n",
      " 1 file changed, 0 insertions(+), 0 deletions(-)\n",
      " delete mode 100644 test.txt\n"
     ]
    }
   ],
   "source": [
    "!git commit -m \"remove test.txt\""
   ]
  },
  {
   "cell_type": "code",
   "execution_count": 88,
   "id": "1ec5ab3c-56e7-42cf-9d31-1fb2278184b0",
   "metadata": {},
   "outputs": [
    {
     "name": "stdout",
     "output_type": "stream",
     "text": [
      "错误：路径规格 'test.txt' 未匹配任何 git 已知文件\n"
     ]
    }
   ],
   "source": [
    "!git checkout -- test.txt"
   ]
  },
  {
   "cell_type": "code",
   "execution_count": null,
   "id": "59f1e4fc-90d8-413e-bd18-e3b6890e7fc0",
   "metadata": {},
   "outputs": [],
   "source": [
    "!git remote add origin git@github.com:MagicInno/git.git"
   ]
  },
  {
   "cell_type": "code",
   "execution_count": null,
   "id": "07c81fed-3cd0-482e-8db5-55050b9d6e4b",
   "metadata": {},
   "outputs": [],
   "source": [
    "!git push -u origin master"
   ]
  },
  {
   "cell_type": "code",
   "execution_count": null,
   "id": "b2acf995-87b2-4bb2-a6fd-da5642d6e5a4",
   "metadata": {},
   "outputs": [],
   "source": []
  }
 ],
 "metadata": {
  "kernelspec": {
   "display_name": "Python 3 (ipykernel)",
   "language": "python",
   "name": "python3"
  },
  "language_info": {
   "codemirror_mode": {
    "name": "ipython",
    "version": 3
   },
   "file_extension": ".py",
   "mimetype": "text/x-python",
   "name": "python",
   "nbconvert_exporter": "python",
   "pygments_lexer": "ipython3",
   "version": "3.12.5"
  }
 },
 "nbformat": 4,
 "nbformat_minor": 5
}
